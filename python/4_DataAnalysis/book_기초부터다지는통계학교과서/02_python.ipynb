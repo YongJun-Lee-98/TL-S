{
 "cells": [
  {
   "cell_type": "markdown",
   "metadata": {},
   "source": [
    "# 파이썬의 기본\n",
    "## 생략하는 부분  \n",
    "- print 소개 \n",
    "- 계산 기능 소개  \n",
    "- 문자열 합치기 + 로 나타내기 [개인블로그](https://passiondevelop.com/1-3-python-%eb%ac%b8%ec%9e%90%ec%97%b4/)\n",
    "- 변수 할당 x = [3, 4, 5] 리스트 형태로 할당하기 [개인블로그](https://passiondevelop.com/1-3-2-python-%eb%b3%80%ec%88%98/)\n",
    "\n",
    "## Numerical Python  \n",
    "library numpy 사용"
   ]
  },
  {
   "cell_type": "code",
   "execution_count": 2,
   "metadata": {},
   "outputs": [
    {
     "name": "stdout",
     "output_type": "stream",
     "text": [
      "Collecting numpy\n",
      "  Using cached numpy-2.2.2-cp312-cp312-win_amd64.whl.metadata (60 kB)\n",
      "Collecting matplotlib\n",
      "  Using cached matplotlib-3.10.0-cp312-cp312-win_amd64.whl.metadata (11 kB)\n",
      "Collecting pandas\n",
      "  Using cached pandas-2.2.3-cp312-cp312-win_amd64.whl.metadata (19 kB)\n",
      "Collecting contourpy>=1.0.1 (from matplotlib)\n",
      "  Using cached contourpy-1.3.1-cp312-cp312-win_amd64.whl.metadata (5.4 kB)\n",
      "Collecting cycler>=0.10 (from matplotlib)\n",
      "  Using cached cycler-0.12.1-py3-none-any.whl.metadata (3.8 kB)\n",
      "Collecting fonttools>=4.22.0 (from matplotlib)\n",
      "  Using cached fonttools-4.55.4-cp312-cp312-win_amd64.whl.metadata (169 kB)\n",
      "Collecting kiwisolver>=1.3.1 (from matplotlib)\n",
      "  Using cached kiwisolver-1.4.8-cp312-cp312-win_amd64.whl.metadata (6.3 kB)\n",
      "Requirement already satisfied: packaging>=20.0 in c:\\users\\leep0\\appdata\\roaming\\python\\python312\\site-packages (from matplotlib) (24.2)\n",
      "Collecting pillow>=8 (from matplotlib)\n",
      "  Using cached pillow-11.1.0-cp312-cp312-win_amd64.whl.metadata (9.3 kB)\n",
      "Collecting pyparsing>=2.3.1 (from matplotlib)\n",
      "  Using cached pyparsing-3.2.1-py3-none-any.whl.metadata (5.0 kB)\n",
      "Requirement already satisfied: python-dateutil>=2.7 in c:\\users\\leep0\\appdata\\roaming\\python\\python312\\site-packages (from matplotlib) (2.9.0.post0)\n",
      "Collecting pytz>=2020.1 (from pandas)\n",
      "  Using cached pytz-2024.2-py2.py3-none-any.whl.metadata (22 kB)\n",
      "Collecting tzdata>=2022.7 (from pandas)\n",
      "  Using cached tzdata-2025.1-py2.py3-none-any.whl.metadata (1.4 kB)\n",
      "Requirement already satisfied: six>=1.5 in c:\\users\\leep0\\appdata\\roaming\\python\\python312\\site-packages (from python-dateutil>=2.7->matplotlib) (1.17.0)\n",
      "Using cached numpy-2.2.2-cp312-cp312-win_amd64.whl (12.6 MB)\n",
      "Using cached matplotlib-3.10.0-cp312-cp312-win_amd64.whl (8.0 MB)\n",
      "Using cached pandas-2.2.3-cp312-cp312-win_amd64.whl (11.5 MB)\n",
      "Using cached contourpy-1.3.1-cp312-cp312-win_amd64.whl (220 kB)\n",
      "Using cached cycler-0.12.1-py3-none-any.whl (8.3 kB)\n",
      "Using cached fonttools-4.55.4-cp312-cp312-win_amd64.whl (2.2 MB)\n",
      "Using cached kiwisolver-1.4.8-cp312-cp312-win_amd64.whl (71 kB)\n",
      "Using cached pillow-11.1.0-cp312-cp312-win_amd64.whl (2.6 MB)\n",
      "Using cached pyparsing-3.2.1-py3-none-any.whl (107 kB)\n",
      "Using cached pytz-2024.2-py2.py3-none-any.whl (508 kB)\n",
      "Using cached tzdata-2025.1-py2.py3-none-any.whl (346 kB)\n",
      "Installing collected packages: pytz, tzdata, pyparsing, pillow, numpy, kiwisolver, fonttools, cycler, pandas, contourpy, matplotlib\n",
      "Successfully installed contourpy-1.3.1 cycler-0.12.1 fonttools-4.55.4 kiwisolver-1.4.8 matplotlib-3.10.0 numpy-2.2.2 pandas-2.2.3 pillow-11.1.0 pyparsing-3.2.1 pytz-2024.2 tzdata-2025.1\n",
      "Note: you may need to restart the kernel to use updated packages.\n"
     ]
    },
    {
     "name": "stderr",
     "output_type": "stream",
     "text": [
      "  WARNING: The scripts f2py.exe and numpy-config.exe are installed in 'c:\\Users\\leep0\\.conda\\envs\\bookpython\\Scripts' which is not on PATH.\n",
      "  Consider adding this directory to PATH or, if you prefer to suppress this warning, use --no-warn-script-location.\n",
      "  WARNING: The scripts fonttools.exe, pyftmerge.exe, pyftsubset.exe and ttx.exe are installed in 'c:\\Users\\leep0\\.conda\\envs\\bookpython\\Scripts' which is not on PATH.\n",
      "  Consider adding this directory to PATH or, if you prefer to suppress this warning, use --no-warn-script-location.\n"
     ]
    }
   ],
   "source": [
    "%pip install numpy matplotlib pandas"
   ]
  },
  {
   "cell_type": "code",
   "execution_count": 2,
   "metadata": {},
   "outputs": [],
   "source": [
    "import numpy as np\n",
    "# 배열 생성\n",
    "x = np.array([3, 4, 5])\n",
    "y = np.array([4, 7, 9])\n",
    "# 2차원 배열 생성\n",
    "X = np.array([[3,4,5], [4,7,9]])"
   ]
  },
  {
   "cell_type": "code",
   "execution_count": 8,
   "metadata": {},
   "outputs": [
    {
     "name": "stdout",
     "output_type": "stream",
     "text": [
      "[3 4 5]\n",
      "[4 7 9]\n",
      "[[3 4 5]\n",
      " [4 7 9]]\n"
     ]
    }
   ],
   "source": [
    "print(x)\n",
    "print(y)\n",
    "print(X)"
   ]
  },
  {
   "cell_type": "markdown",
   "metadata": {},
   "source": [
    "[numpy array 공식문서](https://numpy.org/doc/2.1/reference/generated/numpy.array.html)  \n",
    "\n",
    "\"\"\"\n",
    "Parameters:  \n",
    "    object : array_like  \n",
    "        An array, any object exposing the array interface, an object whose __array__ method returns an array, or any sequence. If object is a scalar, a 0-dimensional array containing object is returned  \n",
    "    dtype : data-type, optional  \n",
    "        The desired(원하는) data-type for the array. If not given, NumPy will try to use a default dtype that can represent the values (by applying promotion rules when necessary)  \n",
    "    copy : bool, optional  \n",
    "        If True (default), then the array data is copied, If None, a copy will only be made if __array__ returns a copy, if obj is a nested sequence, or if a copy is needed to satisfy any of the other requirements (dtype, order, etc.). Note that any copy of the data is shallow(얕은), i.e., for arrays with object dtype, the new array will point to the same objects. See Examples for ndarray.copy. For False it raises a ValueError if a copy cannot be avoided. Default: True.  \n",
    "    order : {'K', 'A', 'C', 'F'}, optional  \n",
    "        Specify(지정하다) the memory layout of the array. If object is not an array, the newly created array will be in C order(row major) unless 'F'is specified, in which case it will be in Fortran order(column major)  \n",
    "\n",
    "        |--|--|--|\n",
    "        |order|no copy|copy=True|\n",
    "        |'K'|unchanged|F&C order preserved(보존된, 유지된), otherwise most similar order|\n",
    "        |'A'|unchanged|F order if input is F and not C, otherwise C order|\n",
    "        |'C'| C order | C order|\n",
    "        |'F'| F order | F order|\n",
    "    ndmin : int, optional\n",
    "        Specifies the minimum number of dimensions that the resulting array dimensions that the resulting array should have. Ones will be prepended to the shape as needed to meet this requirement\n",
    "    like : array_like, optional\n",
    "        Reference object to allow the creation of arrays which are not NumPy arrays. If an array-like passed in as like supports the __array_function__ protocol, the result will be defined by it. In this case, it ensures the creation of an array object compatible with that passed in via this argument.\n",
    "\"\"\""
   ]
  },
  {
   "cell_type": "code",
   "execution_count": 9,
   "metadata": {},
   "outputs": [
    {
     "name": "stdout",
     "output_type": "stream",
     "text": [
      "[1. 2. 3.]\n"
     ]
    }
   ],
   "source": [
    "# Upcating\n",
    "a = np.array([1, 2, 3.0])\n",
    "print(a)"
   ]
  },
  {
   "cell_type": "code",
   "execution_count": 14,
   "metadata": {},
   "outputs": [
    {
     "name": "stdout",
     "output_type": "stream",
     "text": [
      "[[1 2 3]]\n"
     ]
    }
   ],
   "source": [
    "# Minimum dimensions 2\n",
    "# ndmin = 대괄호 개수\n",
    "b = np.array([1, 2, 3], ndmin=2)\n",
    "print(b)"
   ]
  },
  {
   "cell_type": "markdown",
   "metadata": {},
   "source": [
    "dtype : Overrides the data type of the result.\n",
    "결과물의 데이터 타입을 지정한다."
   ]
  },
  {
   "cell_type": "code",
   "execution_count": 20,
   "metadata": {},
   "outputs": [
    {
     "name": "stdout",
     "output_type": "stream",
     "text": [
      "[1.+0.j 2.+0.j 3.+0.j]\n",
      "[1 2 3]\n",
      "[1. 2. 3.]\n"
     ]
    }
   ],
   "source": [
    "# type provided\n",
    "c = np.array([1, 2, 3], dtype=complex)\n",
    "print(c)\n",
    "c = np.array([1, 2, 3], dtype=int)\n",
    "print(c)\n",
    "c = np.array([1, 2, 3], dtype=float)\n",
    "print(c)"
   ]
  },
  {
   "cell_type": "code",
   "execution_count": 9,
   "metadata": {},
   "outputs": [
    {
     "name": "stdout",
     "output_type": "stream",
     "text": [
      "int_array type : \n",
      "int64\n",
      "<class 'numpy.dtypes.Int64DType'>\n",
      "float_array type : \n",
      "float64\n"
     ]
    }
   ],
   "source": [
    "int_array = np.array([[1, 2], [3, 4]])\n",
    "print(\"int_array type : \" )\n",
    "print(int_array.dtype)\n",
    "print(type(int_array.dtype))\n",
    "float_array = np.array([[1.0, 2.0], [3.0, 4.0]])\n",
    "print(\"float_array type : \")\n",
    "print(float_array.dtype)"
   ]
  },
  {
   "cell_type": "code",
   "execution_count": 10,
   "metadata": {},
   "outputs": [
    {
     "name": "stdout",
     "output_type": "stream",
     "text": [
      "\u001b[1;31mDocstring:\u001b[0m\n",
      "array(object, dtype=None, *, copy=True, order='K', subok=False, ndmin=0,\n",
      "      like=None)\n",
      "\n",
      "Create an array.\n",
      "\n",
      "Parameters\n",
      "----------\n",
      "object : array_like\n",
      "    An array, any object exposing the array interface, an object whose\n",
      "    ``__array__`` method returns an array, or any (nested) sequence.\n",
      "    If object is a scalar, a 0-dimensional array containing object is\n",
      "    returned.\n",
      "dtype : data-type, optional\n",
      "    The desired data-type for the array. If not given, NumPy will try to use\n",
      "    a default ``dtype`` that can represent the values (by applying promotion\n",
      "    rules when necessary.)\n",
      "copy : bool, optional\n",
      "    If ``True`` (default), then the array data is copied. If ``None``,\n",
      "    a copy will only be made if ``__array__`` returns a copy, if obj is\n",
      "    a nested sequence, or if a copy is needed to satisfy any of the other\n",
      "    requirements (``dtype``, ``order``, etc.). Note that any copy of\n",
      "    the data is shallow, i.e., for arrays with object dtype, the new\n",
      "    array will point to the same objects. See Examples for `ndarray.copy`.\n",
      "    For ``False`` it raises a ``ValueError`` if a copy cannot be avoided.\n",
      "    Default: ``True``.\n",
      "order : {'K', 'A', 'C', 'F'}, optional\n",
      "    Specify the memory layout of the array. If object is not an array, the\n",
      "    newly created array will be in C order (row major) unless 'F' is\n",
      "    specified, in which case it will be in Fortran order (column major).\n",
      "    If object is an array the following holds.\n",
      "\n",
      "    ===== ========= ===================================================\n",
      "    order  no copy                     copy=True\n",
      "    ===== ========= ===================================================\n",
      "    'K'   unchanged F & C order preserved, otherwise most similar order\n",
      "    'A'   unchanged F order if input is F and not C, otherwise C order\n",
      "    'C'   C order   C order\n",
      "    'F'   F order   F order\n",
      "    ===== ========= ===================================================\n",
      "\n",
      "    When ``copy=None`` and a copy is made for other reasons, the result is\n",
      "    the same as if ``copy=True``, with some exceptions for 'A', see the\n",
      "    Notes section. The default order is 'K'.\n",
      "subok : bool, optional\n",
      "    If True, then sub-classes will be passed-through, otherwise\n",
      "    the returned array will be forced to be a base-class array (default).\n",
      "ndmin : int, optional\n",
      "    Specifies the minimum number of dimensions that the resulting\n",
      "    array should have.  Ones will be prepended to the shape as\n",
      "    needed to meet this requirement.\n",
      "like : array_like, optional\n",
      "    Reference object to allow the creation of arrays which are not\n",
      "    NumPy arrays. If an array-like passed in as ``like`` supports\n",
      "    the ``__array_function__`` protocol, the result will be defined\n",
      "    by it. In this case, it ensures the creation of an array object\n",
      "    compatible with that passed in via this argument.\n",
      "\n",
      "    .. versionadded:: 1.20.0\n",
      "\n",
      "Returns\n",
      "-------\n",
      "out : ndarray\n",
      "    An array object satisfying the specified requirements.\n",
      "\n",
      "See Also\n",
      "--------\n",
      "empty_like : Return an empty array with shape and type of input.\n",
      "ones_like : Return an array of ones with shape and type of input.\n",
      "zeros_like : Return an array of zeros with shape and type of input.\n",
      "full_like : Return a new array with shape of input filled with value.\n",
      "empty : Return a new uninitialized array.\n",
      "ones : Return a new array setting values to one.\n",
      "zeros : Return a new array setting values to zero.\n",
      "full : Return a new array of given shape filled with value.\n",
      "copy: Return an array copy of the given object.\n",
      "\n",
      "\n",
      "Notes\n",
      "-----\n",
      "When order is 'A' and ``object`` is an array in neither 'C' nor 'F' order,\n",
      "and a copy is forced by a change in dtype, then the order of the result is\n",
      "not necessarily 'C' as expected. This is likely a bug.\n",
      "\n",
      "Examples\n",
      "--------\n",
      ">>> import numpy as np\n",
      ">>> np.array([1, 2, 3])\n",
      "array([1, 2, 3])\n",
      "\n",
      "Upcasting:\n",
      "\n",
      ">>> np.array([1, 2, 3.0])\n",
      "array([ 1.,  2.,  3.])\n",
      "\n",
      "More than one dimension:\n",
      "\n",
      ">>> np.array([[1, 2], [3, 4]])\n",
      "array([[1, 2],\n",
      "       [3, 4]])\n",
      "\n",
      "Minimum dimensions 2:\n",
      "\n",
      ">>> np.array([1, 2, 3], ndmin=2)\n",
      "array([[1, 2, 3]])\n",
      "\n",
      "Type provided:\n",
      "\n",
      ">>> np.array([1, 2, 3], dtype=complex)\n",
      "array([ 1.+0.j,  2.+0.j,  3.+0.j])\n",
      "\n",
      "Data-type consisting of more than one element:\n",
      "\n",
      ">>> x = np.array([(1,2),(3,4)],dtype=[('a','<i4'),('b','<i4')])\n",
      ">>> x['a']\n",
      "array([1, 3], dtype=int32)\n",
      "\n",
      "Creating an array from sub-classes:\n",
      "\n",
      ">>> np.array(np.asmatrix('1 2; 3 4'))\n",
      "array([[1, 2],\n",
      "       [3, 4]])\n",
      "\n",
      ">>> np.array(np.asmatrix('1 2; 3 4'), subok=True)\n",
      "matrix([[1, 2],\n",
      "        [3, 4]])\n",
      "\u001b[1;31mType:\u001b[0m      builtin_function_or_method"
     ]
    }
   ],
   "source": [
    "np.array?"
   ]
  },
  {
   "cell_type": "code",
   "execution_count": 12,
   "metadata": {},
   "outputs": [
    {
     "data": {
      "text/plain": [
       "array([[1, 2],\n",
       "       [3, 4]])"
      ]
     },
     "execution_count": 12,
     "metadata": {},
     "output_type": "execute_result"
    }
   ],
   "source": [
    "int_array = np.array([[1, 2], [3, 4]])\n",
    "int_array"
   ]
  },
  {
   "cell_type": "markdown",
   "metadata": {},
   "source": [
    "## .ndim\n",
    "x의 속성에 접근하려면 x.attribute라고 입력한다.  \n",
    "attribute 부분을 속성의 이름으로 바꾸어 쓰면 된다.  \n",
    "x의 ndim 속성에 접근할 수 있다.  \n",
    "x는 2차원 배열이다.  \n",
    "x.dtype은 x 객체의 자료형(type)속성이다.  "
   ]
  },
  {
   "cell_type": "code",
   "execution_count": 16,
   "metadata": {},
   "outputs": [
    {
     "name": "stdout",
     "output_type": "stream",
     "text": [
      "2\n",
      "(2, 2)\n"
     ]
    }
   ],
   "source": [
    "print(int_array.ndim)\n",
    "print(int_array.shape)"
   ]
  },
  {
   "cell_type": "markdown",
   "metadata": {},
   "source": [
    "sum() 메소드는 모든 원소를 합한다."
   ]
  },
  {
   "cell_type": "code",
   "execution_count": 17,
   "metadata": {},
   "outputs": [
    {
     "data": {
      "text/plain": [
       "np.int64(10)"
      ]
     },
     "execution_count": 17,
     "metadata": {},
     "output_type": "execute_result"
    }
   ],
   "source": [
    "x = np.array([1, 2, 3, 4])\n",
    "x.sum()"
   ]
  },
  {
   "cell_type": "code",
   "execution_count": 18,
   "metadata": {},
   "outputs": [
    {
     "data": {
      "text/plain": [
       "np.int64(10)"
      ]
     },
     "execution_count": 18,
     "metadata": {},
     "output_type": "execute_result"
    }
   ],
   "source": [
    "x = np.array([1, 2, 3, 4])\n",
    "np.sum(x)"
   ]
  },
  {
   "cell_type": "code",
   "execution_count": 10,
   "metadata": {},
   "outputs": [
    {
     "name": "stdout",
     "output_type": "stream",
     "text": [
      "beginning x:\n",
      " [1 2 3 4 5 6]\n",
      "reshaped x:\n",
      " [[1 2 3]\n",
      " [4 5 6]]\n"
     ]
    }
   ],
   "source": [
    "x = np.array([1, 2, 3, 4, 5, 6])\n",
    "print('beginning x:\\n', x)\n",
    "x_reshape = x.reshape(2, 3)\n",
    "print('reshaped x:\\n', x_reshape)"
   ]
  },
  {
   "cell_type": "code",
   "execution_count": 5,
   "metadata": {},
   "outputs": [
    {
     "data": {
      "text/plain": [
       "np.int64(1)"
      ]
     },
     "execution_count": 5,
     "metadata": {},
     "output_type": "execute_result"
    }
   ],
   "source": [
    "x_reshape[0, 0]"
   ]
  },
  {
   "cell_type": "code",
   "execution_count": 7,
   "metadata": {},
   "outputs": [
    {
     "name": "stdout",
     "output_type": "stream",
     "text": [
      "6\n",
      "5\n"
     ]
    }
   ],
   "source": [
    "print(x_reshape[1, 2])\n",
    "print(x_reshape[1, 1])"
   ]
  },
  {
   "cell_type": "code",
   "execution_count": 11,
   "metadata": {},
   "outputs": [
    {
     "name": "stdout",
     "output_type": "stream",
     "text": [
      "[[1 2 3]\n",
      " [4 5 6]]\n",
      "[[  1   2   3]\n",
      " [  4 100   6]]\n"
     ]
    }
   ],
   "source": [
    "print(x_reshape)\n",
    "x_reshape[1, 1] = 100\n",
    "print(x_reshape)"
   ]
  },
  {
   "cell_type": "markdown",
   "metadata": {},
   "source": [
    "x_reshape이 수정되면  \n",
    "x가 수정되는데 이는 x에서 같은 메모리를 참조하고 있기 때문  "
   ]
  },
  {
   "cell_type": "code",
   "execution_count": 13,
   "metadata": {},
   "outputs": [
    {
     "name": "stdout",
     "output_type": "stream",
     "text": [
      "x :  [  1   2   3   4 100   6]\n",
      "x_reshape :  [[  1   2   3]\n",
      " [  4 100   6]]\n",
      "수정된 x_reshape :  [[1 2 3]\n",
      " [4 5 6]]\n",
      "수정된 x :  [1 2 3 4 5 6]\n"
     ]
    }
   ],
   "source": [
    "print(\"x : \", x)\n",
    "print(\"x_reshape : \", x_reshape)\n",
    "x_reshape[1, 1] = 5\n",
    "print(\"수정된 x_reshape : \", x_reshape)\n",
    "print(\"수정된 x : \", x)"
   ]
  },
  {
   "cell_type": "markdown",
   "metadata": {},
   "source": [
    "## 랜덤데이터의 생성"
   ]
  },
  {
   "cell_type": "code",
   "execution_count": 5,
   "metadata": {},
   "outputs": [
    {
     "name": "stdout",
     "output_type": "stream",
     "text": [
      "[-1.26001168  1.12302422  0.92469941 -0.35090826 -1.26328414  0.61950225\n",
      " -1.78794724 -0.82520464  3.34850847 -1.41318454 -0.3291855   1.08487385\n",
      " -0.25509977  0.19569854  0.93643505 -0.4156125   0.02234177  0.56920562\n",
      " -0.84846286 -0.22950912 -1.29890861  1.1529203  -1.27504417  0.42655489\n",
      "  0.5289949   0.9934646   1.00965319  0.33982219 -0.75640521  0.41551966\n",
      " -0.90605608 -0.40500337  1.49199327  0.0664024  -0.00757238  0.3419769\n",
      " -0.95715912 -2.54689017 -0.99248797  0.76385744  0.17275693 -1.61497449\n",
      "  2.87824827  0.6116851   1.37386418  1.23459498  0.38510846  1.62502386\n",
      " -0.49451732 -0.21150386]\n"
     ]
    }
   ],
   "source": [
    "import numpy as np\n",
    "x = np.random.normal(size=50)\n",
    "print(x)"
   ]
  },
  {
   "cell_type": "code",
   "execution_count": 6,
   "metadata": {},
   "outputs": [],
   "source": [
    "# x의 각 원소에 독립인 N(50, 1) 을 생성\n",
    "y = x + np.random.normal(loc=50, scale=1, size=50)"
   ]
  },
  {
   "cell_type": "code",
   "execution_count": 7,
   "metadata": {},
   "outputs": [
    {
     "data": {
      "text/plain": [
       "array([[1.        , 0.75477306],\n",
       "       [0.75477306, 1.        ]])"
      ]
     },
     "execution_count": 7,
     "metadata": {},
     "output_type": "execute_result"
    }
   ],
   "source": [
    "# 상관관계\n",
    "np.corrcoef(x, y)"
   ]
  },
  {
   "cell_type": "markdown",
   "metadata": {},
   "source": [
    "코드를 실행할 때마다 다른 결과값을 가져오는데  \n",
    "random이 있어서 임 다만 고정적인 결과값을 표현하고 싶다면  \n",
    "np.random.default_rng()함수를 사용하면 된다.  \n",
    "임의의 사용자 지정 정수 인자를 넣어줌\n",
    "np.random.default_rng(10) 데이터를 생성하기 전에\n",
    "랜덤 시드를 설정하면 코드를 다시 실행해도 동일한 결과가 나온다.  "
   ]
  },
  {
   "cell_type": "code",
   "execution_count": 9,
   "metadata": {},
   "outputs": [
    {
     "name": "stdout",
     "output_type": "stream",
     "text": [
      "[ 4.09482632 -1.07485605]\n",
      "[ 4.09482632 -1.07485605]\n"
     ]
    }
   ],
   "source": [
    "rng = np.random.default_rng(1303)\n",
    "print(rng.normal(scale=5, size=2))\n",
    "rng2 = np.random.default_rng(1303)\n",
    "print(rng2.normal(scale=5, size=2))"
   ]
  },
  {
   "cell_type": "markdown",
   "metadata": {},
   "source": [
    "독자와의 동일한 결과를 보장해주기 위해  \n",
    "default_rng()를 사용한다.  \n",
    "\n",
    "\n",
    "np.mean(), np.var(), np.std() 함수를 사용해  \n",
    "배열의 평균, 분산, 표준편차를 계산할 수 있음  "
   ]
  },
  {
   "cell_type": "code",
   "execution_count": 16,
   "metadata": {},
   "outputs": [
    {
     "data": {
      "text/plain": [
       "(np.float64(-0.1126795190952861), np.float64(-0.1126795190952861))"
      ]
     },
     "execution_count": 16,
     "metadata": {},
     "output_type": "execute_result"
    }
   ],
   "source": [
    "rng = np.random.default_rng(3)\n",
    "y = rng.standard_normal(10)\n",
    "np.mean(y), y.mean()"
   ]
  },
  {
   "cell_type": "code",
   "execution_count": 17,
   "metadata": {},
   "outputs": [
    {
     "data": {
      "text/plain": [
       "(np.float64(2.7243406406465125),\n",
       " np.float64(2.7243406406465125),\n",
       " np.float64(2.7243406406465125))"
      ]
     },
     "execution_count": 17,
     "metadata": {},
     "output_type": "execute_result"
    }
   ],
   "source": [
    "# 분산\n",
    "np.var(y), y.var(), np.mean((y - y.mean())**2)"
   ]
  },
  {
   "cell_type": "code",
   "execution_count": 20,
   "metadata": {},
   "outputs": [
    {
     "data": {
      "text/plain": [
       "(np.float64(1.6505576756498128), np.float64(1.6505576756498128))"
      ]
     },
     "execution_count": 20,
     "metadata": {},
     "output_type": "execute_result"
    }
   ],
   "source": [
    "np.sqrt(np.var(y)), np.std(y)"
   ]
  },
  {
   "cell_type": "code",
   "execution_count": 21,
   "metadata": {},
   "outputs": [
    {
     "name": "stdout",
     "output_type": "stream",
     "text": [
      "\u001b[1;31mSignature:\u001b[0m      \n",
      "\u001b[0mnp\u001b[0m\u001b[1;33m.\u001b[0m\u001b[0mvar\u001b[0m\u001b[1;33m(\u001b[0m\u001b[1;33m\n",
      "\u001b[0m    \u001b[0ma\u001b[0m\u001b[1;33m,\u001b[0m\u001b[1;33m\n",
      "\u001b[0m    \u001b[0maxis\u001b[0m\u001b[1;33m=\u001b[0m\u001b[1;32mNone\u001b[0m\u001b[1;33m,\u001b[0m\u001b[1;33m\n",
      "\u001b[0m    \u001b[0mdtype\u001b[0m\u001b[1;33m=\u001b[0m\u001b[1;32mNone\u001b[0m\u001b[1;33m,\u001b[0m\u001b[1;33m\n",
      "\u001b[0m    \u001b[0mout\u001b[0m\u001b[1;33m=\u001b[0m\u001b[1;32mNone\u001b[0m\u001b[1;33m,\u001b[0m\u001b[1;33m\n",
      "\u001b[0m    \u001b[0mddof\u001b[0m\u001b[1;33m=\u001b[0m\u001b[1;36m0\u001b[0m\u001b[1;33m,\u001b[0m\u001b[1;33m\n",
      "\u001b[0m    \u001b[0mkeepdims\u001b[0m\u001b[1;33m=\u001b[0m\u001b[1;33m<\u001b[0m\u001b[0mno\u001b[0m \u001b[0mvalue\u001b[0m\u001b[1;33m>\u001b[0m\u001b[1;33m,\u001b[0m\u001b[1;33m\n",
      "\u001b[0m    \u001b[1;33m*\u001b[0m\u001b[1;33m,\u001b[0m\u001b[1;33m\n",
      "\u001b[0m    \u001b[0mwhere\u001b[0m\u001b[1;33m=\u001b[0m\u001b[1;33m<\u001b[0m\u001b[0mno\u001b[0m \u001b[0mvalue\u001b[0m\u001b[1;33m>\u001b[0m\u001b[1;33m,\u001b[0m\u001b[1;33m\n",
      "\u001b[0m    \u001b[0mmean\u001b[0m\u001b[1;33m=\u001b[0m\u001b[1;33m<\u001b[0m\u001b[0mno\u001b[0m \u001b[0mvalue\u001b[0m\u001b[1;33m>\u001b[0m\u001b[1;33m,\u001b[0m\u001b[1;33m\n",
      "\u001b[0m    \u001b[0mcorrection\u001b[0m\u001b[1;33m=\u001b[0m\u001b[1;33m<\u001b[0m\u001b[0mno\u001b[0m \u001b[0mvalue\u001b[0m\u001b[1;33m>\u001b[0m\u001b[1;33m,\u001b[0m\u001b[1;33m\n",
      "\u001b[0m\u001b[1;33m)\u001b[0m\u001b[1;33m\u001b[0m\u001b[1;33m\u001b[0m\u001b[0m\n",
      "\u001b[1;31mCall signature:\u001b[0m  \u001b[0mnp\u001b[0m\u001b[1;33m.\u001b[0m\u001b[0mvar\u001b[0m\u001b[1;33m(\u001b[0m\u001b[1;33m*\u001b[0m\u001b[0margs\u001b[0m\u001b[1;33m,\u001b[0m \u001b[1;33m**\u001b[0m\u001b[0mkwargs\u001b[0m\u001b[1;33m)\u001b[0m\u001b[1;33m\u001b[0m\u001b[1;33m\u001b[0m\u001b[0m\n",
      "\u001b[1;31mType:\u001b[0m            _ArrayFunctionDispatcher\n",
      "\u001b[1;31mString form:\u001b[0m     <function var at 0x00000288F9AC32E0>\n",
      "\u001b[1;31mFile:\u001b[0m            c:\\users\\leep0\\.conda\\envs\\bookpython\\lib\\site-packages\\numpy\\_core\\fromnumeric.py\n",
      "\u001b[1;31mDocstring:\u001b[0m      \n",
      "Compute the variance along the specified axis.\n",
      "\n",
      "Returns the variance of the array elements, a measure of the spread of a\n",
      "distribution.  The variance is computed for the flattened array by\n",
      "default, otherwise over the specified axis.\n",
      "\n",
      "Parameters\n",
      "----------\n",
      "a : array_like\n",
      "    Array containing numbers whose variance is desired.  If `a` is not an\n",
      "    array, a conversion is attempted.\n",
      "axis : None or int or tuple of ints, optional\n",
      "    Axis or axes along which the variance is computed.  The default is to\n",
      "    compute the variance of the flattened array.\n",
      "    If this is a tuple of ints, a variance is performed over multiple axes,\n",
      "    instead of a single axis or all the axes as before.\n",
      "dtype : data-type, optional\n",
      "    Type to use in computing the variance.  For arrays of integer type\n",
      "    the default is `float64`; for arrays of float types it is the same as\n",
      "    the array type.\n",
      "out : ndarray, optional\n",
      "    Alternate output array in which to place the result.  It must have\n",
      "    the same shape as the expected output, but the type is cast if\n",
      "    necessary.\n",
      "ddof : {int, float}, optional\n",
      "    \"Delta Degrees of Freedom\": the divisor used in the calculation is\n",
      "    ``N - ddof``, where ``N`` represents the number of elements. By\n",
      "    default `ddof` is zero. See notes for details about use of `ddof`.\n",
      "keepdims : bool, optional\n",
      "    If this is set to True, the axes which are reduced are left\n",
      "    in the result as dimensions with size one. With this option,\n",
      "    the result will broadcast correctly against the input array.\n",
      "\n",
      "    If the default value is passed, then `keepdims` will not be\n",
      "    passed through to the `var` method of sub-classes of\n",
      "    `ndarray`, however any non-default value will be.  If the\n",
      "    sub-class' method does not implement `keepdims` any\n",
      "    exceptions will be raised.\n",
      "where : array_like of bool, optional\n",
      "    Elements to include in the variance. See `~numpy.ufunc.reduce` for\n",
      "    details.\n",
      "\n",
      "    .. versionadded:: 1.20.0\n",
      "\n",
      "mean : array like, optional\n",
      "    Provide the mean to prevent its recalculation. The mean should have\n",
      "    a shape as if it was calculated with ``keepdims=True``.\n",
      "    The axis for the calculation of the mean should be the same as used in\n",
      "    the call to this var function.\n",
      "\n",
      "    .. versionadded:: 2.0.0\n",
      "\n",
      "correction : {int, float}, optional\n",
      "    Array API compatible name for the ``ddof`` parameter. Only one of them\n",
      "    can be provided at the same time.\n",
      "\n",
      "    .. versionadded:: 2.0.0\n",
      "\n",
      "Returns\n",
      "-------\n",
      "variance : ndarray, see dtype parameter above\n",
      "    If ``out=None``, returns a new array containing the variance;\n",
      "    otherwise, a reference to the output array is returned.\n",
      "\n",
      "See Also\n",
      "--------\n",
      "std, mean, nanmean, nanstd, nanvar\n",
      ":ref:`ufuncs-output-type`\n",
      "\n",
      "Notes\n",
      "-----\n",
      "There are several common variants of the array variance calculation.\n",
      "Assuming the input `a` is a one-dimensional NumPy array and ``mean`` is\n",
      "either provided as an argument or computed as ``a.mean()``, NumPy\n",
      "computes the variance of an array as::\n",
      "\n",
      "    N = len(a)\n",
      "    d2 = abs(a - mean)**2  # abs is for complex `a`\n",
      "    var = d2.sum() / (N - ddof)  # note use of `ddof`\n",
      "\n",
      "Different values of the argument `ddof` are useful in different\n",
      "contexts. NumPy's default ``ddof=0`` corresponds with the expression:\n",
      "\n",
      ".. math::\n",
      "\n",
      "    \\frac{\\sum_i{|a_i - \\bar{a}|^2 }}{N}\n",
      "\n",
      "which is sometimes called the \"population variance\" in the field of\n",
      "statistics because it applies the definition of variance to `a` as if `a`\n",
      "were a complete population of possible observations.\n",
      "\n",
      "Many other libraries define the variance of an array differently, e.g.:\n",
      "\n",
      ".. math::\n",
      "\n",
      "    \\frac{\\sum_i{|a_i - \\bar{a}|^2}}{N - 1}\n",
      "\n",
      "In statistics, the resulting quantity is sometimes called the \"sample\n",
      "variance\" because if `a` is a random sample from a larger population,\n",
      "this calculation provides an unbiased estimate of the variance of the\n",
      "population.  The use of :math:`N-1` in the denominator is often called\n",
      "\"Bessel's correction\" because it corrects for bias (toward lower values)\n",
      "in the variance estimate introduced when the sample mean of `a` is used\n",
      "in place of the true mean of the population. For this quantity, use\n",
      "``ddof=1``.\n",
      "\n",
      "Note that for complex numbers, the absolute value is taken before\n",
      "squaring, so that the result is always real and nonnegative.\n",
      "\n",
      "For floating-point input, the variance is computed using the same\n",
      "precision the input has.  Depending on the input data, this can cause\n",
      "the results to be inaccurate, especially for `float32` (see example\n",
      "below).  Specifying a higher-accuracy accumulator using the ``dtype``\n",
      "keyword can alleviate this issue.\n",
      "\n",
      "Examples\n",
      "--------\n",
      ">>> import numpy as np\n",
      ">>> a = np.array([[1, 2], [3, 4]])\n",
      ">>> np.var(a)\n",
      "1.25\n",
      ">>> np.var(a, axis=0)\n",
      "array([1.,  1.])\n",
      ">>> np.var(a, axis=1)\n",
      "array([0.25,  0.25])\n",
      "\n",
      "In single precision, var() can be inaccurate:\n",
      "\n",
      ">>> a = np.zeros((2, 512*512), dtype=np.float32)\n",
      ">>> a[0, :] = 1.0\n",
      ">>> a[1, :] = 0.1\n",
      ">>> np.var(a)\n",
      "np.float32(0.20250003)\n",
      "\n",
      "Computing the variance in float64 is more accurate:\n",
      "\n",
      ">>> np.var(a, dtype=np.float64)\n",
      "0.20249999932944759 # may vary\n",
      ">>> ((1-0.55)**2 + (0.1-0.55)**2)/2\n",
      "0.2025\n",
      "\n",
      "Specifying a where argument:\n",
      "\n",
      ">>> a = np.array([[14, 8, 11, 10], [7, 9, 10, 11], [10, 15, 5, 10]])\n",
      ">>> np.var(a)\n",
      "6.833333333333333 # may vary\n",
      ">>> np.var(a, where=[[True], [True], [False]])\n",
      "4.0\n",
      "\n",
      "Using the mean keyword to save computation time:\n",
      "\n",
      ">>> import numpy as np\n",
      ">>> from timeit import timeit\n",
      ">>>\n",
      ">>> a = np.array([[14, 8, 11, 10], [7, 9, 10, 11], [10, 15, 5, 10]])\n",
      ">>> mean = np.mean(a, axis=1, keepdims=True)\n",
      ">>>\n",
      ">>> g = globals()\n",
      ">>> n = 10000\n",
      ">>> t1 = timeit(\"var = np.var(a, axis=1, mean=mean)\", globals=g, number=n)\n",
      ">>> t2 = timeit(\"var = np.var(a, axis=1)\", globals=g, number=n)\n",
      ">>> print(f'Percentage execution time saved {100*(t2-t1)/t2:.0f}%')\n",
      "#doctest: +SKIP\n",
      "Percentage execution time saved 32%\n",
      "\u001b[1;31mClass docstring:\u001b[0m\n",
      "Class to wrap functions with checks for __array_function__ overrides.\n",
      "\n",
      "All arguments are required, and can only be passed by position.\n",
      "\n",
      "Parameters\n",
      "----------\n",
      "dispatcher : function or None\n",
      "    The dispatcher function that returns a single sequence-like object\n",
      "    of all arguments relevant.  It must have the same signature (except\n",
      "    the default values) as the actual implementation.\n",
      "    If ``None``, this is a ``like=`` dispatcher and the\n",
      "    ``_ArrayFunctionDispatcher`` must be called with ``like`` as the\n",
      "    first (additional and positional) argument.\n",
      "implementation : function\n",
      "    Function that implements the operation on NumPy arrays without\n",
      "    overrides.  Arguments passed calling the ``_ArrayFunctionDispatcher``\n",
      "    will be forwarded to this (and the ``dispatcher``) as if using\n",
      "    ``*args, **kwargs``.\n",
      "\n",
      "Attributes\n",
      "----------\n",
      "_implementation : function\n",
      "    The original implementation passed in."
     ]
    }
   ],
   "source": [
    "np.var?"
   ]
  },
  {
   "cell_type": "code",
   "execution_count": null,
   "metadata": {},
   "outputs": [],
   "source": []
  }
 ],
 "metadata": {
  "kernelspec": {
   "display_name": "bookpython",
   "language": "python",
   "name": "python3"
  },
  "language_info": {
   "codemirror_mode": {
    "name": "ipython",
    "version": 3
   },
   "file_extension": ".py",
   "mimetype": "text/x-python",
   "name": "python",
   "nbconvert_exporter": "python",
   "pygments_lexer": "ipython3",
   "version": "3.12.8"
  }
 },
 "nbformat": 4,
 "nbformat_minor": 2
}
